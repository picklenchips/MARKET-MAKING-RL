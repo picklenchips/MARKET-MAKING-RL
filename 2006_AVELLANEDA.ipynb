{
 "cells": [
  {
   "cell_type": "code",
   "execution_count": 1,
   "metadata": {},
   "outputs": [],
   "source": [
    "import numpy as np"
   ]
  },
  {
   "cell_type": "markdown",
   "metadata": {},
   "source": [
    "@article{2006_avellaneda,\n",
    "    author = {Marco Avellaneda and Sasha Stoikov},\n",
    "    title = {High-frequency trading in a limit order book},\n",
    "    doi = {10.1080/14697680701381228},\n",
    "    journal = {Quantitative Finance},\n",
    "    number = {3},\n",
    "    pages = {217--224},\n",
    "    publisher = {Routledge},\n",
    "    url = {https://doi.org/10.1080/14697680701381228},\n",
    "    volume = {8},\n",
    "    year = {2008},\n",
    "    bdsk-url-1 = {https://doi.org/10.1080/14697680701381228}}"
   ]
  },
  {
   "cell_type": "markdown",
   "metadata": {},
   "source": [
    "#### ASSUMPTIONS:\n",
    "1. asssume money market pays no interest\n",
    "2. mid-price given by $dS_u = \\sigma d W_u$\n",
    "   1. initial value, $S_t = s, W_t$ is standard 1D Brownian motion,\n",
    "   2. $\\sigma$ is constant\n",
    "3. agent can not affect drift or autocorrelation structure of stock\n",
    "4. \n",
    "\n",
    "### globa variables:\n",
    " - gamma = discount price?\n",
    " - sigma = brownian motion variance\n",
    " - terminal time T at which stock dies or sumn\n",
    "\n",
    "\n",
    "'frozen inventory' strategy\n",
    "inactive trader\n",
    "no limit orders and only holds inventory of q stocks until T\n",
    "value function given by $v(x,s,q,t)$, where\n",
    " - x = initial wealth, q = nstocks, t = time\n",
    " - s = initial stock value, = midprice\n",
    "\n",
    "reservation bid price is price that makes agent indifferent to buy a stock\n",
    "$$v(x-r^b(s,q,t), s, q+1, t) >= v(x,s,q,t)$$\n",
    "reservation ask price is price that makes agent indifferent to sell a stock\n",
    "$$v(x+r^a(s,q,t), s, q-1, t) >= v(x,s,q,t)$$\n",
    "where $r^b$, $r^a$ is bid, ask price"
   ]
  },
  {
   "cell_type": "code",
   "execution_count": 3,
   "metadata": {},
   "outputs": [],
   "source": [
    "gamma = sigma = 1; T = 1000\n",
    "# v(x,s,q,t), \n",
    "# x = initial wealth, s = initial stock value, q = nstocks, t = time\n",
    "def frozen_value(initial_wealth, stock_val, nstocks, time):\n",
    "    first = -np.exp(-gamma*(initial_wealth+nstocks*stock_val))\n",
    "    second = np.exp((gamma*nstocks*sigma)**2 * (T - time) / 2)\n",
    "    return first * second\n",
    "\n",
    "def res_ask_price(s,q,t):\n",
    "    return s + (1-2*q) * gamma * sigma**2 * (T-t)\n",
    "def res_bid_price(s,q,t):\n",
    "    return s - (1+2*q) * gamma * sigma**2 * (T-t)\n",
    "# avg between bid and ask\n",
    "def res_price(s, q, t):  # reservation / indifference price\n",
    "    return s - q * gamma * sigma**2 * (T-t)"
   ]
  },
  {
   "cell_type": "markdown",
   "metadata": {},
   "source": [
    "### 2.4 :  adding limit orders\n",
    "\n",
    "quotes bid price $p^b$, ask price $p^a$\n",
    "focus on distances $\\delta^b = s - p^b$ and $\\delta^a = p^a - s$\n",
    "\n",
    "imagine market order of $Q$ stocks arrives, the $Q$ limit orders with lowest \n",
    "ask prices are sold. if $p^Q$ is price of highest limit order, \n",
    "$\\Delta p = p^Q - s$  is the temporary market impact of the trade\n",
    "\n",
    "ASSUME \n",
    "- market buy orders \"lift\" agent's limit asks at Poisson rate\n",
    "$\\lambda^a(\\delta^a)$, monotonically decreasing function\n",
    "- markey sells will \"hit\" the buy limit orders at rate $\\lambda^b(\\delta^a)$\n",
    "these rates are also called the Poisson \"intensities\"\n",
    "\n",
    "$X_t$ = wealth of agent. $N_t^a$ is # stocks sold, $N_t^b$ is # stocks bought. Follows stochastic function\n",
    "$$dX_t = p^a dN_t^a - p^b dN_t^b$$\n",
    "\n",
    "stocks held at time $t$ is $q_t$\n",
    "objective is\n",
    "$$u(s, x, q, t) = \\max_{\\delta^a,\\delta^b} \n",
    "\\mathbb{E}_t \\left[-\\exp\\left(-\\gamma(X_T + q_T S_T)\\right)\\right]$$\n",
    "\n",
    "### 2.5: Trading Intensity\n",
    "\n",
    "ASSUME constant frequency $\\Lambda$ of market buy or sell orders. \n",
    "\n",
    "The density of market order size is given by\n",
    "$$f^Q(x)\\propto x^{-1-\\alpha}$$\n",
    "\n",
    "\n",
    "for large $x$. $\\alpha=1.53$ for US stocks, $\\alpha = 1.4$ for NASDAQ stocks, and $\\alpha = 1.5$ for Paris Bourse.\n",
    "\n",
    "Market impact is given by either $\\Delta p \\propto Q^\\beta$ for $\\beta=0.5,0.76$ but is better fit to $\\Delta p\\propto \\ln(Q)$.\n",
    "\n",
    "Authors find that \n",
    "For market impact given $\\Delta p\\propto \\ln(Q)$, $$\\lambda(\\delta)=A e^{-k\\delta}$$\n",
    "\n",
    "For a power-law market impact $\\Delta p \\propto Q^\\beta$, $$\\lambda(\\delta)=B\\delta^{-\\alpha/\\beta}$$\n",
    "\n",
    "Or we can integrate the density of the limit order book?\n",
    "\n",
    "for  $A=\\Lambda/\\alpha$, $k=\\alpha K$.\n",
    "\n",
    "Agent objective function is given by $u(s,x,q,t)$ is a solution to Hamilton-Jacobi-Bellman equation. \n",
    "\n",
    "$\\delta^a$ and $\\delta^b$ is \n",
    "\n",
    "The utility function is continuous in $s,x,t$ but discrete in $q$:\n",
    "$$u(s,x,q,t)=-\\exp\\left(-\\gamma\\left[x+\\theta(s,q,t)\\right]\\right)$$\n",
    "\n",
    "where we have introduced the ansatz $\\theta(s,q,t)$\n",
    "\n",
    "bid-ask spread is given by \n",
    "$$\\delta^a+\\delta^b = \\gamma \\sigma^2 (T-t)+\\frac2\\gamma \\ln\\left(1+\\frac\\gamma{k}\\right)$$\n",
    "\n"
   ]
  }
 ],
 "metadata": {
  "kernelspec": {
   "display_name": "base",
   "language": "python",
   "name": "python3"
  },
  "language_info": {
   "codemirror_mode": {
    "name": "ipython",
    "version": 3
   },
   "file_extension": ".py",
   "mimetype": "text/x-python",
   "name": "python",
   "nbconvert_exporter": "python",
   "pygments_lexer": "ipython3",
   "version": "3.11.7"
  }
 },
 "nbformat": 4,
 "nbformat_minor": 2
}
